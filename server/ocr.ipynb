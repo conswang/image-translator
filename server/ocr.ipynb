{
 "cells": [
  {
   "cell_type": "code",
   "execution_count": 2,
   "source": [
    "try:\n",
    "    from PIL import Image\n",
    "except ImportError:\n",
    "    import Image\n",
    "\n",
    "import pytesseract"
   ],
   "outputs": [],
   "metadata": {}
  },
  {
   "cell_type": "code",
   "execution_count": 3,
   "source": [
    "print(pytesseract.image_to_string(Image.open('english.jpg'), lang='eng'))"
   ],
   "outputs": [
    {
     "output_type": "stream",
     "name": "stdout",
     "text": [
      "And both that morning equally lay\n",
      "In leaves no step had trodden black.\n",
      "\" I kept the first for another day!\n",
      "\n",
      "I shall be telling this with a sigh\n",
      "Somewhere ages and ages hence:\n",
      "Two roads diverged in a wood, and I —\n",
      "\n",
      "I took the one less traveled by\n",
      "And that has made all the difference.\n",
      "\f\n"
     ]
    }
   ],
   "metadata": {}
  },
  {
   "cell_type": "code",
   "execution_count": 4,
   "source": [
    "print(pytesseract.image_to_string(Image.open('arabic.png'), lang='ara'))"
   ],
   "outputs": [
    {
     "output_type": "stream",
     "name": "stdout",
     "text": [
      "لا تقاوم يا أحمق !... ما الذي تمنحك إياه لحظات أخرى من\n",
      "العيش مع الأغيار ؟.. ما الذي لم تحققه في سنواتك العشرين\n",
      "السابقة وتنوي أن تحققه لو ظللت حيًا ؟... فرارك هذا لا يخنلدف\n",
      "عن فرار الصرصور على جدار مطبخ» أو أميبا تترلق تحت\n",
      "عدسة مجهر ... صرخة غريزة لا أكثر .. إنه تفاعل التحاشي\n",
      "الذي زرعته الطبيعة فيك؛ وعليك أن تتعلم كيف تهمله كي تظفر\n",
      "براحة استحققتها...\n",
      "\n",
      "انطلقت الرشاشات فنظر لأعلى .. نعم .. هذه الطلقات من\n",
      "أجلك أنت ..\n",
      "ترسم ذلك الخط الطويل على الرمال .. الخط الذي يمر بك\n",
      "\n",
      "أنت ..\n",
      "\f\n"
     ]
    }
   ],
   "metadata": {}
  },
  {
   "cell_type": "code",
   "execution_count": 5,
   "source": [
    "print(pytesseract.image_to_string(Image.open('mandarin.jpg'), lang='chi_sim'))"
   ],
   "outputs": [
    {
     "output_type": "stream",
     "name": "stdout",
     "text": [
      " \n",
      "\n",
      "二的蔡苑经常在外面，很少在家。李叶的妈妈是\n",
      "很好看的女人，她有很多朋友，每天都和朋友一\n",
      "抑。李叶的区   葡妈妈部很将，  他们没有时间理他\n",
      "\n",
      " \n",
      "\n",
      " \n",
      "\n",
      " \n",
      "\n",
      "西令民\n",
      "\n",
      " \n",
      "\n",
      " \n",
      "\n",
      " \n",
      "\n",
      " \n",
      "\n",
      " \n",
      "\n",
      "们的女儿。还有，    的妈妈好像一点也不喜欢李\n",
      "叶，她觉得李 二一点 也不详她。事叶出生以后，她\n",
      "就告诉家里的阿姨 : \"如果你们想让我军心，就不要\n",
      "\n",
      " \n",
      "\n",
      " \n",
      "\n",
      " \n",
      "\n",
      " \n",
      "\n",
      " \n",
      "\n",
      " \n",
      "\n",
      " \n",
      "\n",
      " \n",
      "\n",
      " \n",
      "\n",
      "[我看到这个孩子。\"所以，事叶很少能见到她的区\n",
      "\n",
      "记-\n",
      "\f\n"
     ]
    }
   ],
   "metadata": {}
  },
  {
   "cell_type": "code",
   "execution_count": null,
   "source": [],
   "outputs": [],
   "metadata": {}
  }
 ],
 "metadata": {
  "orig_nbformat": 4,
  "language_info": {
   "name": "python",
   "version": "3.8.10",
   "mimetype": "text/x-python",
   "codemirror_mode": {
    "name": "ipython",
    "version": 3
   },
   "pygments_lexer": "ipython3",
   "nbconvert_exporter": "python",
   "file_extension": ".py"
  },
  "kernelspec": {
   "name": "python3",
   "display_name": "Python 3.8.10 64-bit"
  },
  "interpreter": {
   "hash": "916dbcbb3f70747c44a77c7bcd40155683ae19c65e1c03b4aa3499c5328201f1"
  }
 },
 "nbformat": 4,
 "nbformat_minor": 2
}